{
 "cells": [
  {
   "cell_type": "code",
   "execution_count": 1,
   "outputs": [
    {
     "name": "stdout",
     "text": [
      "Welcome to\n",
      "\n",
      "                  ____  ____ \n",
      "                 / __ \\/ __ /\n",
      "    ____  __  __/ / / / /_   \n",
      "   / __ \\/ / / / / / /\\__ \\  \n",
      "  / /_/ / /_/ / /_/ /___/ /  \n",
      " / .___/\\__, /\\____//____/   \n",
      "/_/    /____/                 v0.5.1                 \n",
      "\n"
     ],
     "output_type": "stream"
    }
   ],
   "source": [
    "from pyos.pyos import *\n",
    "import mincepy\n",
    "import urllib.request\n",
    "import json\n",
    "\n",
    "# Load some data\n",
    "with urllib.request.urlopen('https://raw.githubusercontent.com/ozlerhakan/mongodb-json-files/master/datasets/restaurant.json') as url:\n",
    "    for line, _ in zip(url, range(20)):\n",
    "        data = json.loads(line.decode())\n",
    "        data.pop('_id')\n",
    "        mincepy.Dict(data).save()\n",
    "        "
   ],
   "metadata": {
    "collapsed": false,
    "pycharm": {
     "name": "#%%\n",
     "is_executing": false
    }
   }
  },
  {
   "cell_type": "code",
   "execution_count": 2,
   "outputs": [
    {
     "data": {
      "text/plain": "5e8e3b69bf565b14e96e7d41  5e8e3b69bf565b14e96e7d4f  5e8e3b69bf565b14e96e7d5d\n5e8e3b69bf565b14e96e7d43  5e8e3b69bf565b14e96e7d51  5e8e3b69bf565b14e96e7d5f\n5e8e3b69bf565b14e96e7d45  5e8e3b69bf565b14e96e7d53  5e8e3b69bf565b14e96e7d61\n5e8e3b69bf565b14e96e7d47  5e8e3b69bf565b14e96e7d55  5e8e3b69bf565b14e96e7d63\n5e8e3b69bf565b14e96e7d49  5e8e3b69bf565b14e96e7d57  5e8e3b69bf565b14e96e7d65\n5e8e3b69bf565b14e96e7d4b  5e8e3b69bf565b14e96e7d59  5e8e3b69bf565b14e96e7d67\n5e8e3b69bf565b14e96e7d4d  5e8e3b69bf565b14e96e7d5b"
     },
     "metadata": {},
     "output_type": "execute_result",
     "execution_count": 2
    }
   ],
   "source": [
    "        \n",
    "ls()"
   ],
   "metadata": {
    "collapsed": false,
    "pycharm": {
     "name": "#%%\n",
     "is_executing": false
    }
   }
  },
  {
   "cell_type": "code",
   "execution_count": 3,
   "outputs": [
    {
     "data": {
      "text/plain": ".CN_Chinese        007_Takeaway                    100_Menu         133_Takeaway                    \n@_Thai             042_Restaurant_&_Bar            104_Turkish_BBQ  1498_The_Spice_Affair           \n@_Thai_Restaurant  1_2_3_Chinese                   109_Ristorante   168_Chinese_&_Cantonese_Takeaway\n@Indian.com        100_Degrees_Chinese_Restaurant  113_Fish_Bar     1A_Wok                          "
     },
     "metadata": {},
     "output_type": "execute_result",
     "execution_count": 3
    }
   ],
   "source": [
    "for resto in ls | load:\n",
    "    mv(resto, resto['name'].replace(' ', '_').replace('/', '_'))\n",
    "\n",
    "ls()"
   ],
   "metadata": {
    "collapsed": false,
    "pycharm": {
     "name": "#%%\n",
     "is_executing": false
    }
   }
  },
  {
   "cell_type": "code",
   "execution_count": 4,
   "outputs": [
    {
     "data": {
      "text/plain": "┌──────────────┬────────────────────────────────────────────────────┐\n│URL           │http://www.just-eat.co.uk/restaurants-1awok-pa7/menu│\n│address       │Unit 2 30 Greenock Road                             │\n│address line 2│Bishopton                                           │\n│name          │1A Wok                                              │\n│outcode       │PA7                                                 │\n│postcode      │5JN                                                 │\n│rating        │5                                                   │\n│type_of_food  │Chinese                                             │\n└──────────────┴────────────────────────────────────────────────────┘"
     },
     "metadata": {},
     "output_type": "execute_result",
     "execution_count": 4
    }
   ],
   "source": [
    "cat('1A_Wok')"
   ],
   "metadata": {
    "collapsed": false,
    "pycharm": {
     "name": "#%%\n",
     "is_executing": false
    }
   }
  },
  {
   "cell_type": "code",
   "execution_count": 5,
   "outputs": [
    {
     "data": {
      "text/plain": "┌──────────────┬──────────────────────────────────────────────────────────┐\n│URL           │http://www.just-eat.co.uk/restaurants-168chinese-ls18/menu│\n│address       │17 Alexandra Road                                         │\n│address line 2│West Yorkshire                                            │\n│name          │168 Chinese & Cantonese Takeaway                          │\n│outcode       │LS18                                                      │\n│postcode      │4HE                                                       │\n│rating        │5.5                                                       │\n│type_of_food  │Chinese                                                   │\n└──────────────┴──────────────────────────────────────────────────────────┘\n┌──────────────┬────────────────────────────────────────────────────┐\n│URL           │http://www.just-eat.co.uk/restaurants-1awok-pa7/menu│\n│address       │Unit 2 30 Greenock Road                             │\n│address line 2│Bishopton                                           │\n│name          │1A Wok                                              │\n│outcode       │PA7                                                 │\n│postcode      │5JN                                                 │\n│rating        │5                                                   │\n│type_of_food  │Chinese                                             │\n└──────────────┴────────────────────────────────────────────────────┘\n┌──────────────┬─────────────────────────────────────────────────────────────┐\n│URL           │http://www.just-eat.co.uk/restaurants-cn-chinese-cardiff/menu│\n│address       │228 City Road                                                │\n│address line 2│Cardiff                                                      │\n│name          │.CN Chinese                                                  │\n│outcode       │CF24                                                         │\n│postcode      │3JH                                                          │\n│rating        │5                                                            │\n│type_of_food  │Chinese                                                      │\n└──────────────┴─────────────────────────────────────────────────────────────┘\n┌──────────────┬────────────────────────────────────────────────────────────────┐\n│URL           │http://www.just-eat.co.uk/restaurants-113-fish-bar-wallasey/menu│\n│address       │113 Poulton Road                                                │\n│address line 2│Merseyside                                                      │\n│name          │113 Fish Bar                                                    │\n│outcode       │CH44                                                            │\n│postcode      │9DE                                                             │\n│rating        │5.5                                                             │\n│type_of_food  │Chinese                                                         │\n└──────────────┴────────────────────────────────────────────────────────────────┘\n┌──────────────┬──────────────────────────────────────────────────────────────────────┐\n│URL           │http://www.just-eat.co.uk/restaurants-1-2-3-chinese-rowlands-gill/menu│\n│address       │Unit 4 Spencer House                                                  │\n│address line 2│Swalwell                                                              │\n│name          │1 2 3 Chinese                                                         │\n│outcode       │NE16                                                                  │\n│postcode      │3DS                                                                   │\n│rating        │4.5                                                                   │\n│type_of_food  │Chinese                                                               │\n└──────────────┴──────────────────────────────────────────────────────────────────────┘\n┌──────────────┬───────────────────────────────────────────────────────────────────────────────────┐\n│URL           │http://www.just-eat.co.uk/restaurants-100-degrees-chinese-restaurant-pontypridd/...│\n│address       │67 Park Street                                                                     │\n│address line 2│Treforest                                                                          │\n│name          │100 Degrees Chinese Restaurant                                                     │\n│outcode       │CF37                                                                               │\n│postcode      │1SN                                                                                │\n│rating        │5                                                                                  │\n│type_of_food  │Chinese                                                                            │\n└──────────────┴───────────────────────────────────────────────────────────────────────────────────┘\n┌──────────────┬──────────────────────────────────────────────────────┐\n│URL           │http://www.just-eat.co.uk/restaurants-100menu-wn1/menu│\n│address       │50 Wallgate                                           │\n│address line 2│Wigan                                                 │\n│name          │100 Menu                                              │\n│outcode       │WN1                                                   │\n│postcode      │1JU                                                   │\n│rating        │5                                                     │\n│type_of_food  │Chinese                                               │\n└──────────────┴──────────────────────────────────────────────────────┘"
     },
     "metadata": {},
     "output_type": "execute_result",
     "execution_count": 5
    }
   ],
   "source": [
    "find(state={'type_of_food': 'Chinese'}) | cat"
   ],
   "metadata": {
    "collapsed": false,
    "pycharm": {
     "name": "#%%\n",
     "is_executing": false
    }
   }
  },
  {
   "cell_type": "code",
   "execution_count": 5,
   "outputs": [],
   "source": [
    "\n"
   ],
   "metadata": {
    "collapsed": false,
    "pycharm": {
     "name": "#%%\n",
     "is_executing": false
    }
   }
  }
 ],
 "metadata": {
  "kernelspec": {
   "display_name": "Python 3",
   "language": "python",
   "name": "python3"
  },
  "language_info": {
   "codemirror_mode": {
    "name": "ipython",
    "version": 2
   },
   "file_extension": ".py",
   "mimetype": "text/x-python",
   "name": "python",
   "nbconvert_exporter": "python",
   "pygments_lexer": "ipython2",
   "version": "2.7.6"
  },
  "pycharm": {
   "stem_cell": {
    "cell_type": "raw",
    "source": [],
    "metadata": {
     "collapsed": false
    }
   }
  }
 },
 "nbformat": 4,
 "nbformat_minor": 0
}