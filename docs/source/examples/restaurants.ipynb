{
 "cells": [
  {
   "cell_type": "markdown",
   "metadata": {
    "pycharm": {
     "name": "#%% md\n"
    }
   },
   "source": [
    "Restaurants example\n",
    "===================\n",
    "\n",
    "This example takes you through some of the basics of PyOS and introduces you to some of the commands, syntax and \n",
    "concepts.  So let's dive in, and enjoy! \n"
   ]
  },
  {
   "cell_type": "code",
   "execution_count": 1,
   "metadata": {
    "pycharm": {
     "is_executing": true
    }
   },
   "outputs": [
    {
     "name": "stdout",
     "output_type": "stream",
     "text": [
      "Welcome to\n",
      "\n",
      "                  ____  ____ \n",
      "                 / __ \\/ __ /\n",
      "    ____  __  __/ / / / /_   \n",
      "   / __ \\/ / / / / / /\\__ \\  \n",
      "  / /_/ / /_/ / /_/ /___/ /  \n",
      " / .___/\\__, /\\____//____/   \n",
      "/_/    /____/                 v0.4.0                 \n",
      "\n"
     ]
    }
   ],
   "source": [
    "from pyos.pyos import *"
   ]
  },
  {
   "cell_type": "code",
   "execution_count": 2,
   "metadata": {
    "pycharm": {
     "is_executing": false,
     "name": "#%%\n"
    }
   },
   "outputs": [
    {
     "data": {
      "text/plain": [
       "Path('/martin/')"
      ]
     },
     "execution_count": 2,
     "metadata": {},
     "output_type": "execute_result"
    }
   ],
   "source": [
    "pwd()"
   ]
  },
  {
   "cell_type": "code",
   "execution_count": 3,
   "metadata": {
    "pycharm": {
     "is_executing": false,
     "name": "#%%\n"
    }
   },
   "outputs": [
    {
     "data": {
      "text/plain": [
       "<empty>"
      ]
     },
     "execution_count": 3,
     "metadata": {},
     "output_type": "execute_result"
    }
   ],
   "source": [
    "ls()"
   ]
  },
  {
   "cell_type": "markdown",
   "metadata": {
    "pycharm": {
     "name": "#%% md\n"
    }
   },
   "source": [
    "Ok, so we're in the `martin` folder but there's nothing in it.  Let's download some data and store it in dictionaries."
   ]
  },
  {
   "cell_type": "code",
   "execution_count": 4,
   "metadata": {
    "pycharm": {
     "is_executing": false,
     "name": "#%%\n"
    }
   },
   "outputs": [],
   "source": [
    "import mincepy\n",
    "import urllib.request\n",
    "import json\n",
    "\n",
    "ids = []\n",
    "with urllib.request.urlopen('https://raw.githubusercontent.com/ozlerhakan/mongodb-json-files/master/datasets/restaurant.json') as url: \n",
    "    for line, _ in zip(url, range(400)): \n",
    "        data = json.loads(line.decode()) \n",
    "        data.pop('_id') \n",
    "        ids.append(mincepy.Dict(data).save())"
   ]
  },
  {
   "cell_type": "code",
   "execution_count": 5,
   "metadata": {
    "pycharm": {
     "is_executing": false,
     "name": "#%%\n"
    }
   },
   "outputs": [
    {
     "data": {
      "text/plain": [
       "5e8cc321664e6ebd2c9bcf2f  5e8cc322664e6ebd2c9bd03b  5e8cc322664e6ebd2c9bd147\n",
       "5e8cc321664e6ebd2c9bcf31  5e8cc322664e6ebd2c9bd03d  5e8cc322664e6ebd2c9bd149\n",
       "5e8cc321664e6ebd2c9bcf33  5e8cc322664e6ebd2c9bd03f  5e8cc322664e6ebd2c9bd14b\n",
       "5e8cc321664e6ebd2c9bcf35  5e8cc322664e6ebd2c9bd041  5e8cc322664e6ebd2c9bd14d\n",
       "5e8cc321664e6ebd2c9bcf37  5e8cc322664e6ebd2c9bd043  5e8cc322664e6ebd2c9bd14f\n",
       "5e8cc321664e6ebd2c9bcf39  5e8cc322664e6ebd2c9bd045  5e8cc322664e6ebd2c9bd151\n",
       "5e8cc321664e6ebd2c9bcf3b  5e8cc322664e6ebd2c9bd047  5e8cc322664e6ebd2c9bd153\n",
       "5e8cc321664e6ebd2c9bcf3d  5e8cc322664e6ebd2c9bd049  5e8cc322664e6ebd2c9bd155\n",
       "5e8cc321664e6ebd2c9bcf3f  5e8cc322664e6ebd2c9bd04b  5e8cc322664e6ebd2c9bd157\n",
       "5e8cc321664e6ebd2c9bcf41  5e8cc322664e6ebd2c9bd04d  5e8cc322664e6ebd2c9bd159\n",
       "5e8cc321664e6ebd2c9bcf43  5e8cc322664e6ebd2c9bd04f  5e8cc322664e6ebd2c9bd15b\n",
       "5e8cc321664e6ebd2c9bcf45  5e8cc322664e6ebd2c9bd051  5e8cc322664e6ebd2c9bd15d\n",
       "5e8cc321664e6ebd2c9bcf47  5e8cc322664e6ebd2c9bd053  5e8cc322664e6ebd2c9bd15f\n",
       "5e8cc321664e6ebd2c9bcf49  5e8cc322664e6ebd2c9bd055  5e8cc322664e6ebd2c9bd161\n",
       "5e8cc321664e6ebd2c9bcf4b  5e8cc322664e6ebd2c9bd057  5e8cc322664e6ebd2c9bd163\n",
       "5e8cc321664e6ebd2c9bcf4d  5e8cc322664e6ebd2c9bd059  5e8cc322664e6ebd2c9bd165\n",
       "5e8cc321664e6ebd2c9bcf4f  5e8cc322664e6ebd2c9bd05b  5e8cc322664e6ebd2c9bd167\n",
       "5e8cc321664e6ebd2c9bcf51  5e8cc322664e6ebd2c9bd05d  5e8cc322664e6ebd2c9bd169\n",
       "5e8cc321664e6ebd2c9bcf53  5e8cc322664e6ebd2c9bd05f  5e8cc322664e6ebd2c9bd16b\n",
       "5e8cc322664e6ebd2c9bcf55  5e8cc322664e6ebd2c9bd061  5e8cc322664e6ebd2c9bd16d\n",
       "5e8cc322664e6ebd2c9bcf57  5e8cc322664e6ebd2c9bd063  5e8cc322664e6ebd2c9bd16f\n",
       "5e8cc322664e6ebd2c9bcf59  5e8cc322664e6ebd2c9bd065  5e8cc322664e6ebd2c9bd171\n",
       "5e8cc322664e6ebd2c9bcf5b  5e8cc322664e6ebd2c9bd067  5e8cc322664e6ebd2c9bd173\n",
       "5e8cc322664e6ebd2c9bcf5d  5e8cc322664e6ebd2c9bd069  5e8cc322664e6ebd2c9bd175\n",
       "5e8cc322664e6ebd2c9bcf5f  5e8cc322664e6ebd2c9bd06b  5e8cc322664e6ebd2c9bd177\n",
       "5e8cc322664e6ebd2c9bcf61  5e8cc322664e6ebd2c9bd06d  5e8cc322664e6ebd2c9bd179\n",
       "5e8cc322664e6ebd2c9bcf63  5e8cc322664e6ebd2c9bd06f  5e8cc322664e6ebd2c9bd17b\n",
       "5e8cc322664e6ebd2c9bcf65  5e8cc322664e6ebd2c9bd071  5e8cc322664e6ebd2c9bd17d\n",
       "5e8cc322664e6ebd2c9bcf67  5e8cc322664e6ebd2c9bd073  5e8cc322664e6ebd2c9bd17f\n",
       "5e8cc322664e6ebd2c9bcf69  5e8cc322664e6ebd2c9bd075  5e8cc322664e6ebd2c9bd181\n",
       "5e8cc322664e6ebd2c9bcf6b  5e8cc322664e6ebd2c9bd077  5e8cc322664e6ebd2c9bd183\n",
       "5e8cc322664e6ebd2c9bcf6d  5e8cc322664e6ebd2c9bd079  5e8cc322664e6ebd2c9bd185\n",
       "5e8cc322664e6ebd2c9bcf6f  5e8cc322664e6ebd2c9bd07b  5e8cc322664e6ebd2c9bd187\n",
       "5e8cc322664e6ebd2c9bcf71  5e8cc322664e6ebd2c9bd07d  5e8cc322664e6ebd2c9bd189\n",
       "5e8cc322664e6ebd2c9bcf73  5e8cc322664e6ebd2c9bd07f  5e8cc322664e6ebd2c9bd18b\n",
       "5e8cc322664e6ebd2c9bcf75  5e8cc322664e6ebd2c9bd081  5e8cc322664e6ebd2c9bd18d\n",
       "5e8cc322664e6ebd2c9bcf77  5e8cc322664e6ebd2c9bd083  5e8cc322664e6ebd2c9bd18f\n",
       "5e8cc322664e6ebd2c9bcf79  5e8cc322664e6ebd2c9bd085  5e8cc322664e6ebd2c9bd191\n",
       "5e8cc322664e6ebd2c9bcf7b  5e8cc322664e6ebd2c9bd087  5e8cc322664e6ebd2c9bd193\n",
       "5e8cc322664e6ebd2c9bcf7d  5e8cc322664e6ebd2c9bd089  5e8cc322664e6ebd2c9bd195\n",
       "5e8cc322664e6ebd2c9bcf7f  5e8cc322664e6ebd2c9bd08b  5e8cc322664e6ebd2c9bd197\n",
       "5e8cc322664e6ebd2c9bcf81  5e8cc322664e6ebd2c9bd08d  5e8cc322664e6ebd2c9bd199\n",
       "5e8cc322664e6ebd2c9bcf83  5e8cc322664e6ebd2c9bd08f  5e8cc322664e6ebd2c9bd19b\n",
       "5e8cc322664e6ebd2c9bcf85  5e8cc322664e6ebd2c9bd091  5e8cc322664e6ebd2c9bd19d\n",
       "5e8cc322664e6ebd2c9bcf87  5e8cc322664e6ebd2c9bd093  5e8cc322664e6ebd2c9bd19f\n",
       "5e8cc322664e6ebd2c9bcf89  5e8cc322664e6ebd2c9bd095  5e8cc322664e6ebd2c9bd1a1\n",
       "5e8cc322664e6ebd2c9bcf8b  5e8cc322664e6ebd2c9bd097  5e8cc322664e6ebd2c9bd1a3\n",
       "5e8cc322664e6ebd2c9bcf8d  5e8cc322664e6ebd2c9bd099  5e8cc322664e6ebd2c9bd1a5\n",
       "5e8cc322664e6ebd2c9bcf8f  5e8cc322664e6ebd2c9bd09b  5e8cc322664e6ebd2c9bd1a7\n",
       "5e8cc322664e6ebd2c9bcf91  5e8cc322664e6ebd2c9bd09d  5e8cc322664e6ebd2c9bd1a9\n",
       "5e8cc322664e6ebd2c9bcf93  5e8cc322664e6ebd2c9bd09f  5e8cc322664e6ebd2c9bd1ab\n",
       "5e8cc322664e6ebd2c9bcf95  5e8cc322664e6ebd2c9bd0a1  5e8cc322664e6ebd2c9bd1ad\n",
       "5e8cc322664e6ebd2c9bcf97  5e8cc322664e6ebd2c9bd0a3  5e8cc322664e6ebd2c9bd1af\n",
       "5e8cc322664e6ebd2c9bcf99  5e8cc322664e6ebd2c9bd0a5  5e8cc322664e6ebd2c9bd1b1\n",
       "5e8cc322664e6ebd2c9bcf9b  5e8cc322664e6ebd2c9bd0a7  5e8cc322664e6ebd2c9bd1b3\n",
       "5e8cc322664e6ebd2c9bcf9d  5e8cc322664e6ebd2c9bd0a9  5e8cc322664e6ebd2c9bd1b5\n",
       "5e8cc322664e6ebd2c9bcf9f  5e8cc322664e6ebd2c9bd0ab  5e8cc322664e6ebd2c9bd1b7\n",
       "5e8cc322664e6ebd2c9bcfa1  5e8cc322664e6ebd2c9bd0ad  5e8cc322664e6ebd2c9bd1b9\n",
       "5e8cc322664e6ebd2c9bcfa3  5e8cc322664e6ebd2c9bd0af  5e8cc322664e6ebd2c9bd1bb\n",
       "5e8cc322664e6ebd2c9bcfa5  5e8cc322664e6ebd2c9bd0b1  5e8cc322664e6ebd2c9bd1bd\n",
       "5e8cc322664e6ebd2c9bcfa7  5e8cc322664e6ebd2c9bd0b3  5e8cc322664e6ebd2c9bd1bf\n",
       "5e8cc322664e6ebd2c9bcfa9  5e8cc322664e6ebd2c9bd0b5  5e8cc322664e6ebd2c9bd1c1\n",
       "5e8cc322664e6ebd2c9bcfab  5e8cc322664e6ebd2c9bd0b7  5e8cc322664e6ebd2c9bd1c3\n",
       "5e8cc322664e6ebd2c9bcfad  5e8cc322664e6ebd2c9bd0b9  5e8cc322664e6ebd2c9bd1c5\n",
       "5e8cc322664e6ebd2c9bcfaf  5e8cc322664e6ebd2c9bd0bb  5e8cc322664e6ebd2c9bd1c7\n",
       "5e8cc322664e6ebd2c9bcfb1  5e8cc322664e6ebd2c9bd0bd  5e8cc322664e6ebd2c9bd1c9\n",
       "5e8cc322664e6ebd2c9bcfb3  5e8cc322664e6ebd2c9bd0bf  5e8cc322664e6ebd2c9bd1cb\n",
       "5e8cc322664e6ebd2c9bcfb5  5e8cc322664e6ebd2c9bd0c1  5e8cc322664e6ebd2c9bd1cd\n",
       "5e8cc322664e6ebd2c9bcfb7  5e8cc322664e6ebd2c9bd0c3  5e8cc322664e6ebd2c9bd1cf\n",
       "5e8cc322664e6ebd2c9bcfb9  5e8cc322664e6ebd2c9bd0c5  5e8cc322664e6ebd2c9bd1d1\n",
       "5e8cc322664e6ebd2c9bcfbb  5e8cc322664e6ebd2c9bd0c7  5e8cc322664e6ebd2c9bd1d3\n",
       "5e8cc322664e6ebd2c9bcfbd  5e8cc322664e6ebd2c9bd0c9  5e8cc322664e6ebd2c9bd1d5\n",
       "5e8cc322664e6ebd2c9bcfbf  5e8cc322664e6ebd2c9bd0cb  5e8cc322664e6ebd2c9bd1d7\n",
       "5e8cc322664e6ebd2c9bcfc1  5e8cc322664e6ebd2c9bd0cd  5e8cc322664e6ebd2c9bd1d9\n",
       "5e8cc322664e6ebd2c9bcfc3  5e8cc322664e6ebd2c9bd0cf  5e8cc322664e6ebd2c9bd1db\n",
       "5e8cc322664e6ebd2c9bcfc5  5e8cc322664e6ebd2c9bd0d1  5e8cc322664e6ebd2c9bd1dd\n",
       "5e8cc322664e6ebd2c9bcfc7  5e8cc322664e6ebd2c9bd0d3  5e8cc322664e6ebd2c9bd1df\n",
       "5e8cc322664e6ebd2c9bcfc9  5e8cc322664e6ebd2c9bd0d5  5e8cc322664e6ebd2c9bd1e1\n",
       "5e8cc322664e6ebd2c9bcfcb  5e8cc322664e6ebd2c9bd0d7  5e8cc322664e6ebd2c9bd1e3\n",
       "5e8cc322664e6ebd2c9bcfcd  5e8cc322664e6ebd2c9bd0d9  5e8cc322664e6ebd2c9bd1e5\n",
       "5e8cc322664e6ebd2c9bcfcf  5e8cc322664e6ebd2c9bd0db  5e8cc322664e6ebd2c9bd1e7\n",
       "5e8cc322664e6ebd2c9bcfd1  5e8cc322664e6ebd2c9bd0dd  5e8cc322664e6ebd2c9bd1e9\n",
       "5e8cc322664e6ebd2c9bcfd3  5e8cc322664e6ebd2c9bd0df  5e8cc322664e6ebd2c9bd1eb\n",
       "5e8cc322664e6ebd2c9bcfd5  5e8cc322664e6ebd2c9bd0e1  5e8cc322664e6ebd2c9bd1ed\n",
       "5e8cc322664e6ebd2c9bcfd7  5e8cc322664e6ebd2c9bd0e3  5e8cc322664e6ebd2c9bd1ef\n",
       "5e8cc322664e6ebd2c9bcfd9  5e8cc322664e6ebd2c9bd0e5  5e8cc322664e6ebd2c9bd1f1\n",
       "5e8cc322664e6ebd2c9bcfdb  5e8cc322664e6ebd2c9bd0e7  5e8cc322664e6ebd2c9bd1f3\n",
       "5e8cc322664e6ebd2c9bcfdd  5e8cc322664e6ebd2c9bd0e9  5e8cc322664e6ebd2c9bd1f5\n",
       "5e8cc322664e6ebd2c9bcfdf  5e8cc322664e6ebd2c9bd0eb  5e8cc322664e6ebd2c9bd1f7\n",
       "5e8cc322664e6ebd2c9bcfe1  5e8cc322664e6ebd2c9bd0ed  5e8cc322664e6ebd2c9bd1f9\n",
       "5e8cc322664e6ebd2c9bcfe3  5e8cc322664e6ebd2c9bd0ef  5e8cc322664e6ebd2c9bd1fb\n",
       "5e8cc322664e6ebd2c9bcfe5  5e8cc322664e6ebd2c9bd0f1  5e8cc322664e6ebd2c9bd1fd\n",
       "5e8cc322664e6ebd2c9bcfe7  5e8cc322664e6ebd2c9bd0f3  5e8cc322664e6ebd2c9bd1ff\n",
       "5e8cc322664e6ebd2c9bcfe9  5e8cc322664e6ebd2c9bd0f5  5e8cc322664e6ebd2c9bd201\n",
       "5e8cc322664e6ebd2c9bcfeb  5e8cc322664e6ebd2c9bd0f7  5e8cc322664e6ebd2c9bd203\n",
       "5e8cc322664e6ebd2c9bcfed  5e8cc322664e6ebd2c9bd0f9  5e8cc322664e6ebd2c9bd205\n",
       "5e8cc322664e6ebd2c9bcfef  5e8cc322664e6ebd2c9bd0fb  5e8cc322664e6ebd2c9bd207\n",
       "5e8cc322664e6ebd2c9bcff1  5e8cc322664e6ebd2c9bd0fd  5e8cc322664e6ebd2c9bd209\n",
       "5e8cc322664e6ebd2c9bcff3  5e8cc322664e6ebd2c9bd0ff  5e8cc322664e6ebd2c9bd20b\n",
       "5e8cc322664e6ebd2c9bcff5  5e8cc322664e6ebd2c9bd101  5e8cc322664e6ebd2c9bd20d\n",
       "5e8cc322664e6ebd2c9bcff7  5e8cc322664e6ebd2c9bd103  5e8cc322664e6ebd2c9bd20f\n",
       "5e8cc322664e6ebd2c9bcff9  5e8cc322664e6ebd2c9bd105  5e8cc322664e6ebd2c9bd211\n",
       "5e8cc322664e6ebd2c9bcffb  5e8cc322664e6ebd2c9bd107  5e8cc322664e6ebd2c9bd213\n",
       "5e8cc322664e6ebd2c9bcffd  5e8cc322664e6ebd2c9bd109  5e8cc322664e6ebd2c9bd215\n",
       "5e8cc322664e6ebd2c9bcfff  5e8cc322664e6ebd2c9bd10b  5e8cc322664e6ebd2c9bd217\n",
       "5e8cc322664e6ebd2c9bd001  5e8cc322664e6ebd2c9bd10d  5e8cc322664e6ebd2c9bd219\n",
       "5e8cc322664e6ebd2c9bd003  5e8cc322664e6ebd2c9bd10f  5e8cc322664e6ebd2c9bd21b\n",
       "5e8cc322664e6ebd2c9bd005  5e8cc322664e6ebd2c9bd111  5e8cc322664e6ebd2c9bd21d\n",
       "5e8cc322664e6ebd2c9bd007  5e8cc322664e6ebd2c9bd113  5e8cc322664e6ebd2c9bd21f\n",
       "5e8cc322664e6ebd2c9bd009  5e8cc322664e6ebd2c9bd115  5e8cc322664e6ebd2c9bd221\n",
       "5e8cc322664e6ebd2c9bd00b  5e8cc322664e6ebd2c9bd117  5e8cc322664e6ebd2c9bd223\n",
       "5e8cc322664e6ebd2c9bd00d  5e8cc322664e6ebd2c9bd119  5e8cc322664e6ebd2c9bd225\n",
       "5e8cc322664e6ebd2c9bd00f  5e8cc322664e6ebd2c9bd11b  5e8cc322664e6ebd2c9bd227\n",
       "5e8cc322664e6ebd2c9bd011  5e8cc322664e6ebd2c9bd11d  5e8cc322664e6ebd2c9bd229\n",
       "5e8cc322664e6ebd2c9bd013  5e8cc322664e6ebd2c9bd11f  5e8cc322664e6ebd2c9bd22b\n",
       "5e8cc322664e6ebd2c9bd015  5e8cc322664e6ebd2c9bd121  5e8cc322664e6ebd2c9bd22d\n",
       "5e8cc322664e6ebd2c9bd017  5e8cc322664e6ebd2c9bd123  5e8cc322664e6ebd2c9bd22f\n",
       "5e8cc322664e6ebd2c9bd019  5e8cc322664e6ebd2c9bd125  5e8cc322664e6ebd2c9bd231\n",
       "5e8cc322664e6ebd2c9bd01b  5e8cc322664e6ebd2c9bd127  5e8cc322664e6ebd2c9bd233\n",
       "5e8cc322664e6ebd2c9bd01d  5e8cc322664e6ebd2c9bd129  5e8cc322664e6ebd2c9bd235\n",
       "5e8cc322664e6ebd2c9bd01f  5e8cc322664e6ebd2c9bd12b  5e8cc322664e6ebd2c9bd237\n",
       "5e8cc322664e6ebd2c9bd021  5e8cc322664e6ebd2c9bd12d  5e8cc322664e6ebd2c9bd239\n",
       "5e8cc322664e6ebd2c9bd023  5e8cc322664e6ebd2c9bd12f  5e8cc322664e6ebd2c9bd23b\n",
       "5e8cc322664e6ebd2c9bd025  5e8cc322664e6ebd2c9bd131  5e8cc322664e6ebd2c9bd23d\n",
       "5e8cc322664e6ebd2c9bd027  5e8cc322664e6ebd2c9bd133  5e8cc322664e6ebd2c9bd23f\n",
       "5e8cc322664e6ebd2c9bd029  5e8cc322664e6ebd2c9bd135  5e8cc322664e6ebd2c9bd241\n",
       "5e8cc322664e6ebd2c9bd02b  5e8cc322664e6ebd2c9bd137  5e8cc322664e6ebd2c9bd243\n",
       "5e8cc322664e6ebd2c9bd02d  5e8cc322664e6ebd2c9bd139  5e8cc322664e6ebd2c9bd245\n",
       "5e8cc322664e6ebd2c9bd02f  5e8cc322664e6ebd2c9bd13b  5e8cc322664e6ebd2c9bd247\n",
       "5e8cc322664e6ebd2c9bd031  5e8cc322664e6ebd2c9bd13d  5e8cc322664e6ebd2c9bd249\n",
       "5e8cc322664e6ebd2c9bd033  5e8cc322664e6ebd2c9bd13f  5e8cc322664e6ebd2c9bd24b\n",
       "5e8cc322664e6ebd2c9bd035  5e8cc322664e6ebd2c9bd141  5e8cc322664e6ebd2c9bd24d\n",
       "5e8cc322664e6ebd2c9bd037  5e8cc322664e6ebd2c9bd143\n",
       "5e8cc322664e6ebd2c9bd039  5e8cc322664e6ebd2c9bd145"
      ]
     },
     "execution_count": 5,
     "metadata": {},
     "output_type": "execute_result"
    }
   ],
   "source": [
    "ls()"
   ]
  },
  {
   "cell_type": "markdown",
   "metadata": {
    "pycharm": {
     "is_executing": false,
     "name": "#%% md\n"
    }
   },
   "source": [
    "So what have we got?  Let's ``cat`` a couple of our dictionaries to see:"
   ]
  },
  {
   "cell_type": "code",
   "execution_count": null,
   "outputs": [],
   "source": [
    "cat(ids[0], ids[1])"
   ],
   "metadata": {
    "collapsed": false,
    "pycharm": {
     "name": "#%%\n"
    }
   }
  },
  {
   "cell_type": "code",
   "execution_count": 7,
   "metadata": {
    "pycharm": {
     "is_executing": false,
     "name": "#%%\n"
    }
   },
   "outputs": [
    {
     "data": {
      "text/plain": [
       ".CN_Chinese                                Aberdare_Charcoal_Grill                    Akar_Kebab\n",
       "@_Thai                                     Aberdeen_Shanghai_Takeaway               \n",
       "@_Thai_Restaurant                          Aberkenfig_Kebab_&_Pizza_House           \n",
       "@Indian.com                                Abe's_Pizza                              \n",
       "007_Takeaway                               Abi_Restaurant                           \n",
       "042_Restaurant_&_Bar                       Abi_Ruchi                                \n",
       "1_2_3_Chinese                              Abida                                    \n",
       "100_Degrees_Chinese_Restaurant             Abidap_Connection                        \n",
       "100_Menu                                   Abid's_Tandoori_Takeaway                 \n",
       "104_Turkish_BBQ                            Abington_Tandoori                        \n",
       "109_Ristorante                             Abi's_Kebab                              \n",
       "113_Fish_Bar                               Abo_Ali_-_Lebanese_Cuisine               \n",
       "133_Takeaway                               Abra_Pizzas                              \n",
       "1498_The_Spice_Affair                      Abra-Kebab-Ra                            \n",
       "168_Chinese_&_Cantonese_Takeaway           ABS_Fast_Food                            \n",
       "1A_Wok                                     Abs_Fried_Chicken_&_Pizza                \n",
       "1pizza1                                    Abshar_Indian_Cuisine                    \n",
       "1st_Choice_Pizza                           Abshar_Persian_Cuisine                   \n",
       "1st_Class_Pizza                            Absolute_Caribbean                       \n",
       "1st_Class_Pizza_&_Kebab_House              Aby's_Indian_Experience                  \n",
       "2_4_1_Pizza                                Abyssinia_Ethiopian_Restaurant           \n",
       "2_for_1_Pizza_Place                        Abz_BBQ_Kitchen                          \n",
       "2_Spice                                    Ace_Of_Spice                             \n",
       "2_Treat_U                                  Ace_Peri_Peri                            \n",
       "23rd_Street_Pizza                          Ace_Pizza                                \n",
       "241_Pizza                                  ACE_Pizza_&_Kebab                        \n",
       "2-4-1_Pizza                                Ace_Plaice_Traditional_Fish_&_Chips      \n",
       "280_Degrees_African_&_Nigerian_Restaurant  Acha_Halal_Chinese_Cuisine               \n",
       "3_Chef_Fish_Bar                            Ackee_Tree                               \n",
       "3_Chefs                                    Ackie's                                  \n",
       "3_In_1_Dunoon                              Acomb_Kebab_House                        \n",
       "3_in_1_Indian_&_Chipshop_Barrhead          Acropolis                                \n",
       "3_In_1_Xtra                                Active_Cafe_Lounge                       \n",
       "321_Pizzas,_Kebabs_&_Burgers               Acton_Charcoal_Grill                     \n",
       "328_Chinese_Online                         Ada_Restaurant                           \n",
       "333_Chinese_Takeaway                       Adaab_Balti                              \n",
       "333_Chinese_Takeaway1                      Adams                                    \n",
       "350_Wok                                    Adams_&_Lily's                           \n",
       "4_in_1_Express                             Adams_Alsabti_Pizzeria_&_Grill_House     \n",
       "4_in_Love                                  Adams_Balti                              \n",
       "4500_Miles_From_Delhi                      Adam's_Balti_&_Pizza                     \n",
       "4_Seasons_Pizza_&_Grill                    Adam's_Cafe_-_Collection_Only            \n",
       "4550_Miles_From_Delhi_-_Collection_Only    Adam's_Grill                             \n",
       "5_In_1_Takeaway                            Adams_Chippy_&_Curry_House               \n",
       "5_'N'_1                                    Adams_Diner                              \n",
       "5_Star_Chinese                             Adam's_Diner                             \n",
       "5_Star_Falafel_@_GH_Butchers               Adam's_Fast_Food                         \n",
       "5_Star_Fish_Bar                            Adam's_Fish_&_Chips                      \n",
       "5_Star_Pizza                               Adams_Fish_&_Pizza_Bar                   \n",
       "555_Hot_Curry                              Adams_Fish_N_Pizza_Bar                   \n",
       "555_Pizza                                  Adam's_Hot_&_Spicy                       \n",
       "555_Pizza_&_Kebab                          Adams_Ice_Cream_Parlour                  \n",
       "57_Orient_Takeaway                         Adams_Pizza                              \n",
       "62_Worksop_Fish_Bar                        Adam's_Pizza_&_Kebab                     \n",
       "64_Pizzeria                                Adams_Pizza_&_Kebabs                     \n",
       "7_&_One                                    Adams_Pizza_Corner                       \n",
       "7_Oaks_Grill                               Adam's_Pizzeria                          \n",
       "7_Spices                                   Adams_Pizzeria                           \n",
       "7_Spices_Takeaway                          Adams_Place                              \n",
       "7_STAR_Pizza                               Adam's_Spice                             \n",
       "7_Star_Spices                              Adams_Steak_&_Curry_House                \n",
       "700_Degrees                                Adana_Pizza                              \n",
       "88_Chinese                                 Adar_Restaurant                          \n",
       "88_Noodle_Bar                              Add_Spice                                \n",
       "888_Chinese_Takeaway                       Addlestone_Charcoal_Grill                \n",
       "888_Triple_Eight                           Adeel_Tandoori                           \n",
       "9_Inch_CFC                                 Adeels_Fast_Food                         \n",
       "9th_Avenue_Pizzeria                        Adeel_Balti_&_Pizza_Bar                  \n",
       "9th_Kitchen                                Adeels_Spice                             \n",
       "A_&_G_Kitchen                              Adelaide_Fish_Bar_-_Collection_Only      \n",
       "A_&_T_Mundi_House                          Adel's_Pizza                             \n",
       "A_Cake_A_Shake                             Adil_Takeaway                            \n",
       "A_Fish_Called_Rhondda                      Adil's_Takeaway                          \n",
       "A_La_Pizza                                 Adiva                                    \n",
       "A_La_Turka                                 Adlington_Mama_Mia                       \n",
       "A_M_Mians                                  Adlington_Spice                          \n",
       "A_Matter_Of_Taste                          Admiral_Pizza                            \n",
       "A_One_Tandoori                             Admirals_Fish_&_Chips_&_Kebabs           \n",
       "A_Passage_To_India                         Adnan_Southern_Fried_Chicken_Shop        \n",
       "A_Sealand_Fish_Bar_-_Collection_Only       Adnans_Indian_Restaurant_&_Takeaway      \n",
       "A_Star_Chippy                              Adolfo's                                 \n",
       "A_Taskinha                                 Adonis_Pizza_&_Grill                     \n",
       "A_Taste_Of_Persia_-_Collection_Only        Ado's                                    \n",
       "A_To_Buy_Fish_&_Chips                      Adras_Restaurant                         \n",
       "A_Touch_of_Spice                           Adriatic_Italian                         \n",
       "A_World_Of_Fl@vours                        AF88                                     \n",
       "A_Yummy_Pizza                              Afandina_Restaurant                      \n",
       "A&A_Peri_Peri                              AFC                                      \n",
       "A&S_Fast_Food                              AFC_American_Fried_Chicken               \n",
       "A.J's_Pizza                                AFC_Fried_Chicken_&_Pizza                \n",
       "èkó_Food_Market                            AFC_Pizza                                \n",
       "£1_Fish_Shop                               AFC-American_Fried_Chicken               \n",
       "A1_Balti_House                             Afendi_Club_&_Restaurant                 \n",
       "A1_Pizzas                                  Afendi_Restaurant_&_Cafe                 \n",
       "A1_Rice_'N'_Spice                          Afghan_Kebab_Takeaway                    \n",
       "A1_Wok                                     Afghan_Pamir                             \n",
       "A12_Spice                                  Afghan_Restaurant                        \n",
       "A4_Pizza_&_Kebab                           Afghan_Spice                             \n",
       "AA_Charcoal_Grill                          Africa_9JA_Restaurant                    \n",
       "Aachi_Chettinad                            Africa_Best_Place                        \n",
       "Aadams_Authentic_Grill                     African_Flavour                          \n",
       "Aakash_Balti                               Afritopia_-_African_Restaurant_with_Style\n",
       "Aakash_Restaurant                          Afsana                                   \n",
       "Aamaya                                     After_Taste                              \n",
       "Aamino's_Pizza                             Afters_Original                          \n",
       "Aanias_Takeaway                            Agoon_Pani_Restaurant_&_Takeaway         \n",
       "AAQA_Fast_Food                             Agra                                     \n",
       "Aaris_Indian_Restaurant                    Agra_Indian_Restaurant_&_Takeaway        \n",
       "Aarthi                                     Agra_Spice_World                         \n",
       "A6_Grill                                   Agra_Tandoori                            \n",
       "Aashiana                                   Agra_Tandoori_&_Balti                    \n",
       "Aashir's                                   Agra_Tandoori_Express                    \n",
       "Aayan's                                    Agrabad                                  \n",
       "AB_Pizza_and_Grill                         Ahads_Bengal_Balti                       \n",
       "Ababil                                     Ahjee_Bhajee                             \n",
       "Abaseen                                    Ahmed_Indian_Takeaway                    \n",
       "Abbey_Fish_Bar                             Ahmed_Tandoori                           \n",
       "Abbey_Fryers_Fish_Bar_&_Balti_House        Ahmed's                                  \n",
       "Abbey_Meads_Indian_Restaurant_&_Takeaway   Ahmeds_Curry_Cafe                        \n",
       "Abbey_Spice                                Ahmeds_Masala_Cafe                       \n",
       "Abbey_Tandoori                             Ahmed's_Perfect_Fried_Chicken            \n",
       "Abbeyfry_Fish_and_Chips                    Ahmeds_Tandoori                          \n",
       "Abbeyfry_Pizzeria_&_Kebab_House            Ai_Sushi                                 \n",
       "Abbey's_Balti_Village                      Ai_Wok                                   \n",
       "Abbey's_Fish_&_Chips_&_Pizza_Place         Aimees                                   \n",
       "Abbeys_Junction_Pizzeria                   Airlink_Restaurant_-_Collection_Only     \n",
       "Abbey's_Pizza                              Aishah_Tandoori                          \n",
       "Abbeywood_Tandoori                         Aisha's                                  \n",
       "Abbies_Pizza                               AJ_Pizza_Town_Limited                    \n",
       "Abby's_Diner                               AJ_Takeaway                              \n",
       "Abdul_Hadi                                 Ajanta_Indian_Cuisine                    \n",
       "Abdul_Spice                                Ajantha_Takeaway                         \n",
       "Abduls                                     Aji_-_Collection_Only                    \n",
       "Abdul's                                    AJ's_Chicken                             \n",
       "Abdul's_Balti_House                        Aisuru_Sushi                             \n",
       "Abdul's_Curry_House                        AJs_Multi_Cuisine                        \n",
       "Abdul's_Indian                             AJ's_Pizza                               \n",
       "Abdul's_Indian_Cuisine                     AJ's_Traditional_Fish_&_Chips            \n",
       "Abduls_Kebab_House                         Ajuba_Indian_Cuisine                     \n",
       "Abduls_Rusholme                            Ajwa_Restaurant                          \n",
       "Aberavon_Packed_Meals                      AK_Chicken_Food                          \n",
       "Aberbargoed_Indian_Takeaway                AK_Grill                                 "
      ]
     },
     "execution_count": 7,
     "metadata": {},
     "output_type": "execute_result"
    }
   ],
   "source": [
    "# Now let's give them meaningful names, converting spaces and forward slashes\n",
    "\n",
    "for resto in ls() | load: \n",
    "    mv(resto, resto['name'].replace(' ', '_').replace('/', '_')) \n",
    "    \n",
    "ls()"
   ]
  },
  {
   "cell_type": "markdown",
   "metadata": {
    "pycharm": {
     "is_executing": false,
     "name": "#%% md\n"
    }
   },
   "source": [
    "The search functionality\n",
    "------------------------\n",
    "\n",
    "In the mood for curry in Edinburgh?"
   ]
  },
  {
   "cell_type": "code",
   "execution_count": 8,
   "metadata": {
    "pycharm": {
     "name": "#%%\n"
    }
   },
   "outputs": [
    {
     "name": "stdout",
     "output_type": "stream",
     "text": [
      "\n",
      "\n",
      "\n",
      "\n"
     ]
    },
    {
     "data": {
      "text/plain": [
       "┌──────────────┬─────────────────────────────────────────────────────────────┐\n",
       "│URL           │http://www.just-eat.co.uk/restaurants-ahmedstandoori-eh6/menu│\n",
       "│address       │100 Newhaven Road                                            │\n",
       "│address line 2│Edinburgh                                                    │\n",
       "│name          │Ahmeds Tandoori                                              │\n",
       "│outcode       │EH6                                                          │\n",
       "│postcode      │4BS                                                          │\n",
       "│rating        │5                                                            │\n",
       "│type_of_food  │Curry                                                        │\n",
       "└──────────────┴─────────────────────────────────────────────────────────────┘\n",
       "┌──────────────┬────────────────────────────────────────────────────────┐\n",
       "│URL           │http://www.just-eat.co.uk/restaurants-agoonpani-eh6/menu│\n",
       "│address       │91 Henderson Street                                     │\n",
       "│address line 2│Edinburgh                                               │\n",
       "│name          │Agoon Pani Restaurant & Takeaway                        │\n",
       "│outcode       │EH6                                                     │\n",
       "│postcode      │6ED                                                     │\n",
       "│rating        │5                                                       │\n",
       "│type_of_food  │Curry                                                   │\n",
       "└──────────────┴────────────────────────────────────────────────────────┘\n",
       "┌──────────────┬───────────────────────────────────────────────────────────┐\n",
       "│URL           │http://www.just-eat.co.uk/restaurants-abida-restaurant/menu│\n",
       "│address       │295A St John's Road                                        │\n",
       "│address line 2│Edinburgh                                                  │\n",
       "│name          │Abida                                                      │\n",
       "│outcode       │EH12                                                       │\n",
       "│postcode      │7XF                                                        │\n",
       "│rating        │4.5                                                        │\n",
       "│type_of_food  │Curry                                                      │\n",
       "└──────────────┴───────────────────────────────────────────────────────────┘\n",
       "┌──────────────┬──────────────────────────────────────────────────────┐\n",
       "│URL           │http://www.just-eat.co.uk/restaurants-abduls-eh10/menu│\n",
       "│address       │22 Comiston Road                                      │\n",
       "│address line 2│Edinburgh                                             │\n",
       "│name          │Abduls                                                │\n",
       "│outcode       │EH10                                                  │\n",
       "│postcode      │5QE                                                   │\n",
       "│rating        │5                                                     │\n",
       "│type_of_food  │Curry                                                 │\n",
       "└──────────────┴──────────────────────────────────────────────────────┘"
      ]
     },
     "execution_count": 8,
     "metadata": {},
     "output_type": "execute_result"
    }
   ],
   "source": [
    "cat(find(state={'data.type_of_food': 'Curry', 'data.address line 2': 'Edinburgh'}))"
   ]
  },
  {
   "cell_type": "markdown",
   "metadata": {
    "pycharm": {
     "is_executing": false,
     "name": "#%% md\n"
    }
   },
   "source": [
    "Let's organise our resto's a little more into folders"
   ]
  },
  {
   "cell_type": "code",
   "source": [
    "for resto in load(ls()):\n",
    "    mv(resto, resto['type_of_food'] + '/') # All directories in PyOS end with a '/'\n",
    "    \n",
    "ls()"
   ],
   "metadata": {
    "collapsed": false,
    "pycharm": {
     "name": "#%% \n"
    }
   },
   "execution_count": null,
   "outputs": []
  },
  {
   "cell_type": "markdown",
   "metadata": {
    "pycharm": {
     "is_executing": false,
     "name": "#%% md\n"
    }
   },
   "source": [
    "Beautiful, let's just check:"
   ]
  },
  {
   "cell_type": "code",
   "execution_count": null,
   "outputs": [],
   "source": [
    "ls('Pizza/')"
   ],
   "metadata": {
    "collapsed": false,
    "pycharm": {
     "name": "#%%\n"
    }
   }
  },
  {
   "cell_type": "markdown",
   "metadata": {
    "pycharm": {
     "is_executing": false,
     "name": "#%% md\n"
    }
   },
   "source": [
    "You know what, I'm vegetarian anyway - let's delete the chicken joints"
   ]
  },
  {
   "cell_type": "code",
   "execution_count": null,
   "outputs": [],
   "source": [
    "rm('Chicken/')\n",
    "ls()"
   ],
   "metadata": {
    "collapsed": false,
    "pycharm": {
     "name": "#%%\n"
    }
   }
  },
  {
   "cell_type": "markdown",
   "metadata": {
    "pycharm": {
     "is_executing": false,
     "name": "#%% md\n"
    }
   },
   "source": [
    "Using metadata\n",
    "--------------\n",
    "\n",
    "Let's add my personal ratings as metadata"
   ]
  },
  {
   "cell_type": "code",
   "execution_count": 12,
   "metadata": {
    "pycharm": {
     "name": "#%%\n"
    }
   },
   "outputs": [
    {
     "name": "stdout",
     "output_type": "stream",
     "text": [
      "\n"
     ]
    },
    {
     "data": {
      "text/plain": [
       "┌──────────────┬────────────────────────┐\n",
       "│_directory    │/martin/Curry/          │\n",
       "│obj_id        │5e8cc322664e6ebd2c9bd209│\n",
       "│name          │Ahmeds_Tandoori         │\n",
       "│martins_rating│5.5                     │\n",
       "└──────────────┴────────────────────────┘"
      ]
     },
     "execution_count": 12,
     "metadata": {},
     "output_type": "execute_result"
    }
   ],
   "source": [
    "meta(-u, 'Curry/Ahmeds_Tandoori', martins_rating=5.5) # -u for 'update'\n",
    "# Can also use flags like this:\n",
    "meta -u ('Curry/Abida', martins_rating=6)\n",
    "meta -u ('Curry/Abduls', martins_rating=4) \n",
    "\n",
    "# Let's have a look\n",
    "meta('Curry/Ahmeds_Tandoori')"
   ]
  },
  {
   "cell_type": "markdown",
   "metadata": {
    "pycharm": {
     "is_executing": false,
     "name": "#%% md\n"
    }
   },
   "source": [
    "And now let's find the good ones"
   ]
  },
  {
   "cell_type": "code",
   "execution_count": null,
   "outputs": [],
   "source": [
    "find(meta=dict(martins_rating={'$gt': 5}))\n"
   ],
   "metadata": {
    "collapsed": false,
    "pycharm": {
     "name": "#%%\n"
    }
   }
  },
  {
   "cell_type": "markdown",
   "metadata": {
    "pycharm": {
     "is_executing": false,
     "name": "#%% md\n"
    }
   },
   "source": [
    "You can also 'pipe' results to another callable:"
   ]
  },
  {
   "cell_type": "code",
   "execution_count": null,
   "outputs": [],
   "source": [
    "# But hold on, where are those again?\n",
    "find(meta=dict(martins_rating={'$gt': 5})) | locate\n"
   ],
   "metadata": {
    "collapsed": false,
    "pycharm": {
     "name": "#%%\n"
    }
   }
  }
 ],
 "metadata": {
  "kernelspec": {
   "display_name": "PyCharm (pyos)",
   "language": "python",
   "name": "pycharm-3c4673b5"
  },
  "language_info": {
   "codemirror_mode": {
    "name": "ipython",
    "version": 3
   },
   "file_extension": ".py",
   "mimetype": "text/x-python",
   "name": "python",
   "nbconvert_exporter": "python",
   "pygments_lexer": "ipython3",
   "version": "3.7.5"
  },
  "pycharm": {
   "stem_cell": {
    "cell_type": "raw",
    "source": [],
    "metadata": {
     "collapsed": false
    }
   }
  }
 },
 "nbformat": 4,
 "nbformat_minor": 1
}