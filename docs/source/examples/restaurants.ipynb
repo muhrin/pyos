{
 "cells": [
  {
   "cell_type": "markdown",
   "metadata": {
    "pycharm": {
     "name": "#%% md\n"
    }
   },
   "source": [
    "Restaurants example\n",
    "===================\n",
    "\n",
    "This example takes you through some of the basics of PyOS and introduces you to some of the commands, syntax and \n",
    "concepts.  So let's dive in, and enjoy! \n"
   ]
  },
  {
   "cell_type": "code",
   "execution_count": 1,
   "metadata": {
    "pycharm": {
     "is_executing": false
    }
   },
   "outputs": [
    {
     "name": "stdout",
     "text": [
      "Welcome to\n",
      "\n",
      "                  ____  ____ \n",
      "                 / __ \\/ __ /\n",
      "    ____  __  __/ / / / /_   \n",
      "   / __ \\/ / / / / / /\\__ \\  \n",
      "  / /_/ / /_/ / /_/ /___/ /  \n",
      " / .___/\\__, /\\____//____/   \n",
      "/_/    /____/                 v0.5.0                 \n",
      "\n"
     ],
     "output_type": "stream"
    }
   ],
   "source": [
    "from pyos.pyos import *"
   ]
  },
  {
   "cell_type": "code",
   "execution_count": 2,
   "metadata": {
    "pycharm": {
     "is_executing": false,
     "name": "#%%\n"
    }
   },
   "outputs": [
    {
     "data": {
      "text/plain": "Path('/martin/')"
     },
     "metadata": {},
     "output_type": "execute_result",
     "execution_count": 2
    }
   ],
   "source": [
    "pwd()"
   ]
  },
  {
   "cell_type": "code",
   "execution_count": 3,
   "metadata": {
    "pycharm": {
     "is_executing": false,
     "name": "#%%\n"
    }
   },
   "outputs": [
    {
     "data": {
      "text/plain": "<empty>"
     },
     "metadata": {},
     "output_type": "execute_result",
     "execution_count": 3
    }
   ],
   "source": [
    "ls()"
   ]
  },
  {
   "cell_type": "markdown",
   "metadata": {
    "pycharm": {
     "name": "#%% md\n"
    }
   },
   "source": [
    "Ok, so we're in the `martin` folder but there's nothing in it.  Let's download some data and store it in dictionaries."
   ]
  },
  {
   "cell_type": "code",
   "execution_count": 4,
   "metadata": {
    "pycharm": {
     "is_executing": false,
     "name": "#%%\n"
    }
   },
   "outputs": [],
   "source": [
    "import mincepy\n",
    "import urllib.request\n",
    "import json\n",
    "\n",
    "ids = []\n",
    "with urllib.request.urlopen('https://raw.githubusercontent.com/ozlerhakan/mongodb-json-files/master/datasets/restaurant.json') as url: \n",
    "    for line, _ in zip(url, range(400)): \n",
    "        data = json.loads(line.decode()) \n",
    "        data.pop('_id') \n",
    "        ids.append(mincepy.Dict(data).save())"
   ]
  },
  {
   "cell_type": "code",
   "execution_count": 5,
   "metadata": {
    "pycharm": {
     "is_executing": false,
     "name": "#%%\n"
    }
   },
   "outputs": [
    {
     "data": {
      "text/plain": "5e8dec5e206cfce8c115e4b4  5e8dec5e206cfce8c115e5c0  5e8dec5e206cfce8c115e6cc\n5e8dec5e206cfce8c115e4b6  5e8dec5e206cfce8c115e5c2  5e8dec5e206cfce8c115e6ce\n5e8dec5e206cfce8c115e4b8  5e8dec5e206cfce8c115e5c4  5e8dec5e206cfce8c115e6d0\n5e8dec5e206cfce8c115e4ba  5e8dec5e206cfce8c115e5c6  5e8dec5e206cfce8c115e6d2\n5e8dec5e206cfce8c115e4bc  5e8dec5e206cfce8c115e5c8  5e8dec5e206cfce8c115e6d4\n5e8dec5e206cfce8c115e4be  5e8dec5e206cfce8c115e5ca  5e8dec5e206cfce8c115e6d6\n5e8dec5e206cfce8c115e4c0  5e8dec5e206cfce8c115e5cc  5e8dec5e206cfce8c115e6d8\n5e8dec5e206cfce8c115e4c2  5e8dec5e206cfce8c115e5ce  5e8dec5e206cfce8c115e6da\n5e8dec5e206cfce8c115e4c4  5e8dec5e206cfce8c115e5d0  5e8dec5e206cfce8c115e6dc\n5e8dec5e206cfce8c115e4c6  5e8dec5e206cfce8c115e5d2  5e8dec5e206cfce8c115e6de\n5e8dec5e206cfce8c115e4c8  5e8dec5e206cfce8c115e5d4  5e8dec5e206cfce8c115e6e0\n5e8dec5e206cfce8c115e4ca  5e8dec5e206cfce8c115e5d6  5e8dec5e206cfce8c115e6e2\n5e8dec5e206cfce8c115e4cc  5e8dec5e206cfce8c115e5d8  5e8dec5e206cfce8c115e6e4\n5e8dec5e206cfce8c115e4ce  5e8dec5e206cfce8c115e5da  5e8dec5e206cfce8c115e6e6\n5e8dec5e206cfce8c115e4d0  5e8dec5e206cfce8c115e5dc  5e8dec5e206cfce8c115e6e8\n5e8dec5e206cfce8c115e4d2  5e8dec5e206cfce8c115e5de  5e8dec5e206cfce8c115e6ea\n5e8dec5e206cfce8c115e4d4  5e8dec5e206cfce8c115e5e0  5e8dec5e206cfce8c115e6ec\n5e8dec5e206cfce8c115e4d6  5e8dec5e206cfce8c115e5e2  5e8dec5e206cfce8c115e6ee\n5e8dec5e206cfce8c115e4d8  5e8dec5e206cfce8c115e5e4  5e8dec5e206cfce8c115e6f0\n5e8dec5e206cfce8c115e4da  5e8dec5e206cfce8c115e5e6  5e8dec5e206cfce8c115e6f2\n5e8dec5e206cfce8c115e4dc  5e8dec5e206cfce8c115e5e8  5e8dec5e206cfce8c115e6f4\n5e8dec5e206cfce8c115e4de  5e8dec5e206cfce8c115e5ea  5e8dec5e206cfce8c115e6f6\n5e8dec5e206cfce8c115e4e0  5e8dec5e206cfce8c115e5ec  5e8dec5e206cfce8c115e6f8\n5e8dec5e206cfce8c115e4e2  5e8dec5e206cfce8c115e5ee  5e8dec5e206cfce8c115e6fa\n5e8dec5e206cfce8c115e4e4  5e8dec5e206cfce8c115e5f0  5e8dec5e206cfce8c115e6fc\n5e8dec5e206cfce8c115e4e6  5e8dec5e206cfce8c115e5f2  5e8dec5e206cfce8c115e6fe\n5e8dec5e206cfce8c115e4e8  5e8dec5e206cfce8c115e5f4  5e8dec5e206cfce8c115e700\n5e8dec5e206cfce8c115e4ea  5e8dec5e206cfce8c115e5f6  5e8dec5e206cfce8c115e702\n5e8dec5e206cfce8c115e4ec  5e8dec5e206cfce8c115e5f8  5e8dec5e206cfce8c115e704\n5e8dec5e206cfce8c115e4ee  5e8dec5e206cfce8c115e5fa  5e8dec5e206cfce8c115e706\n5e8dec5e206cfce8c115e4f0  5e8dec5e206cfce8c115e5fc  5e8dec5e206cfce8c115e708\n5e8dec5e206cfce8c115e4f2  5e8dec5e206cfce8c115e5fe  5e8dec5e206cfce8c115e70a\n5e8dec5e206cfce8c115e4f4  5e8dec5e206cfce8c115e600  5e8dec5e206cfce8c115e70c\n5e8dec5e206cfce8c115e4f6  5e8dec5e206cfce8c115e602  5e8dec5e206cfce8c115e70e\n5e8dec5e206cfce8c115e4f8  5e8dec5e206cfce8c115e604  5e8dec5e206cfce8c115e710\n5e8dec5e206cfce8c115e4fa  5e8dec5e206cfce8c115e606  5e8dec5e206cfce8c115e712\n5e8dec5e206cfce8c115e4fc  5e8dec5e206cfce8c115e608  5e8dec5e206cfce8c115e714\n5e8dec5e206cfce8c115e4fe  5e8dec5e206cfce8c115e60a  5e8dec5e206cfce8c115e716\n5e8dec5e206cfce8c115e500  5e8dec5e206cfce8c115e60c  5e8dec5e206cfce8c115e718\n5e8dec5e206cfce8c115e502  5e8dec5e206cfce8c115e60e  5e8dec5e206cfce8c115e71a\n5e8dec5e206cfce8c115e504  5e8dec5e206cfce8c115e610  5e8dec5e206cfce8c115e71c\n5e8dec5e206cfce8c115e506  5e8dec5e206cfce8c115e612  5e8dec5e206cfce8c115e71e\n5e8dec5e206cfce8c115e508  5e8dec5e206cfce8c115e614  5e8dec5e206cfce8c115e720\n5e8dec5e206cfce8c115e50a  5e8dec5e206cfce8c115e616  5e8dec5e206cfce8c115e722\n5e8dec5e206cfce8c115e50c  5e8dec5e206cfce8c115e618  5e8dec5e206cfce8c115e724\n5e8dec5e206cfce8c115e50e  5e8dec5e206cfce8c115e61a  5e8dec5e206cfce8c115e726\n5e8dec5e206cfce8c115e510  5e8dec5e206cfce8c115e61c  5e8dec5e206cfce8c115e728\n5e8dec5e206cfce8c115e512  5e8dec5e206cfce8c115e61e  5e8dec5e206cfce8c115e72a\n5e8dec5e206cfce8c115e514  5e8dec5e206cfce8c115e620  5e8dec5e206cfce8c115e72c\n5e8dec5e206cfce8c115e516  5e8dec5e206cfce8c115e622  5e8dec5e206cfce8c115e72e\n5e8dec5e206cfce8c115e518  5e8dec5e206cfce8c115e624  5e8dec5e206cfce8c115e730\n5e8dec5e206cfce8c115e51a  5e8dec5e206cfce8c115e626  5e8dec5e206cfce8c115e732\n5e8dec5e206cfce8c115e51c  5e8dec5e206cfce8c115e628  5e8dec5e206cfce8c115e734\n5e8dec5e206cfce8c115e51e  5e8dec5e206cfce8c115e62a  5e8dec5e206cfce8c115e736\n5e8dec5e206cfce8c115e520  5e8dec5e206cfce8c115e62c  5e8dec5e206cfce8c115e738\n5e8dec5e206cfce8c115e522  5e8dec5e206cfce8c115e62e  5e8dec5e206cfce8c115e73a\n5e8dec5e206cfce8c115e524  5e8dec5e206cfce8c115e630  5e8dec5e206cfce8c115e73c\n5e8dec5e206cfce8c115e526  5e8dec5e206cfce8c115e632  5e8dec5e206cfce8c115e73e\n5e8dec5e206cfce8c115e528  5e8dec5e206cfce8c115e634  5e8dec5e206cfce8c115e740\n5e8dec5e206cfce8c115e52a  5e8dec5e206cfce8c115e636  5e8dec5e206cfce8c115e742\n5e8dec5e206cfce8c115e52c  5e8dec5e206cfce8c115e638  5e8dec5e206cfce8c115e744\n5e8dec5e206cfce8c115e52e  5e8dec5e206cfce8c115e63a  5e8dec5e206cfce8c115e746\n5e8dec5e206cfce8c115e530  5e8dec5e206cfce8c115e63c  5e8dec5e206cfce8c115e748\n5e8dec5e206cfce8c115e532  5e8dec5e206cfce8c115e63e  5e8dec5e206cfce8c115e74a\n5e8dec5e206cfce8c115e534  5e8dec5e206cfce8c115e640  5e8dec5e206cfce8c115e74c\n5e8dec5e206cfce8c115e536  5e8dec5e206cfce8c115e642  5e8dec5e206cfce8c115e74e\n5e8dec5e206cfce8c115e538  5e8dec5e206cfce8c115e644  5e8dec5e206cfce8c115e750\n5e8dec5e206cfce8c115e53a  5e8dec5e206cfce8c115e646  5e8dec5e206cfce8c115e752\n5e8dec5e206cfce8c115e53c  5e8dec5e206cfce8c115e648  5e8dec5e206cfce8c115e754\n5e8dec5e206cfce8c115e53e  5e8dec5e206cfce8c115e64a  5e8dec5e206cfce8c115e756\n5e8dec5e206cfce8c115e540  5e8dec5e206cfce8c115e64c  5e8dec5e206cfce8c115e758\n5e8dec5e206cfce8c115e542  5e8dec5e206cfce8c115e64e  5e8dec5e206cfce8c115e75a\n5e8dec5e206cfce8c115e544  5e8dec5e206cfce8c115e650  5e8dec5e206cfce8c115e75c\n5e8dec5e206cfce8c115e546  5e8dec5e206cfce8c115e652  5e8dec5e206cfce8c115e75e\n5e8dec5e206cfce8c115e548  5e8dec5e206cfce8c115e654  5e8dec5e206cfce8c115e760\n5e8dec5e206cfce8c115e54a  5e8dec5e206cfce8c115e656  5e8dec5e206cfce8c115e762\n5e8dec5e206cfce8c115e54c  5e8dec5e206cfce8c115e658  5e8dec5e206cfce8c115e764\n5e8dec5e206cfce8c115e54e  5e8dec5e206cfce8c115e65a  5e8dec5e206cfce8c115e766\n5e8dec5e206cfce8c115e550  5e8dec5e206cfce8c115e65c  5e8dec5e206cfce8c115e768\n5e8dec5e206cfce8c115e552  5e8dec5e206cfce8c115e65e  5e8dec5e206cfce8c115e76a\n5e8dec5e206cfce8c115e554  5e8dec5e206cfce8c115e660  5e8dec5e206cfce8c115e76c\n5e8dec5e206cfce8c115e556  5e8dec5e206cfce8c115e662  5e8dec5e206cfce8c115e76e\n5e8dec5e206cfce8c115e558  5e8dec5e206cfce8c115e664  5e8dec5e206cfce8c115e770\n5e8dec5e206cfce8c115e55a  5e8dec5e206cfce8c115e666  5e8dec5e206cfce8c115e772\n5e8dec5e206cfce8c115e55c  5e8dec5e206cfce8c115e668  5e8dec5e206cfce8c115e774\n5e8dec5e206cfce8c115e55e  5e8dec5e206cfce8c115e66a  5e8dec5e206cfce8c115e776\n5e8dec5e206cfce8c115e560  5e8dec5e206cfce8c115e66c  5e8dec5e206cfce8c115e778\n5e8dec5e206cfce8c115e562  5e8dec5e206cfce8c115e66e  5e8dec5e206cfce8c115e77a\n5e8dec5e206cfce8c115e564  5e8dec5e206cfce8c115e670  5e8dec5e206cfce8c115e77c\n5e8dec5e206cfce8c115e566  5e8dec5e206cfce8c115e672  5e8dec5e206cfce8c115e77e\n5e8dec5e206cfce8c115e568  5e8dec5e206cfce8c115e674  5e8dec5e206cfce8c115e780\n5e8dec5e206cfce8c115e56a  5e8dec5e206cfce8c115e676  5e8dec5e206cfce8c115e782\n5e8dec5e206cfce8c115e56c  5e8dec5e206cfce8c115e678  5e8dec5e206cfce8c115e784\n5e8dec5e206cfce8c115e56e  5e8dec5e206cfce8c115e67a  5e8dec5e206cfce8c115e786\n5e8dec5e206cfce8c115e570  5e8dec5e206cfce8c115e67c  5e8dec5e206cfce8c115e788\n5e8dec5e206cfce8c115e572  5e8dec5e206cfce8c115e67e  5e8dec5e206cfce8c115e78a\n5e8dec5e206cfce8c115e574  5e8dec5e206cfce8c115e680  5e8dec5e206cfce8c115e78c\n5e8dec5e206cfce8c115e576  5e8dec5e206cfce8c115e682  5e8dec5e206cfce8c115e78e\n5e8dec5e206cfce8c115e578  5e8dec5e206cfce8c115e684  5e8dec5e206cfce8c115e790\n5e8dec5e206cfce8c115e57a  5e8dec5e206cfce8c115e686  5e8dec5e206cfce8c115e792\n5e8dec5e206cfce8c115e57c  5e8dec5e206cfce8c115e688  5e8dec5e206cfce8c115e794\n5e8dec5e206cfce8c115e57e  5e8dec5e206cfce8c115e68a  5e8dec5e206cfce8c115e796\n5e8dec5e206cfce8c115e580  5e8dec5e206cfce8c115e68c  5e8dec5e206cfce8c115e798\n5e8dec5e206cfce8c115e582  5e8dec5e206cfce8c115e68e  5e8dec5e206cfce8c115e79a\n5e8dec5e206cfce8c115e584  5e8dec5e206cfce8c115e690  5e8dec5e206cfce8c115e79c\n5e8dec5e206cfce8c115e586  5e8dec5e206cfce8c115e692  5e8dec5e206cfce8c115e79e\n5e8dec5e206cfce8c115e588  5e8dec5e206cfce8c115e694  5e8dec5e206cfce8c115e7a0\n5e8dec5e206cfce8c115e58a  5e8dec5e206cfce8c115e696  5e8dec5e206cfce8c115e7a2\n5e8dec5e206cfce8c115e58c  5e8dec5e206cfce8c115e698  5e8dec5e206cfce8c115e7a4\n5e8dec5e206cfce8c115e58e  5e8dec5e206cfce8c115e69a  5e8dec5e206cfce8c115e7a6\n5e8dec5e206cfce8c115e590  5e8dec5e206cfce8c115e69c  5e8dec5e206cfce8c115e7a8\n5e8dec5e206cfce8c115e592  5e8dec5e206cfce8c115e69e  5e8dec5e206cfce8c115e7aa\n5e8dec5e206cfce8c115e594  5e8dec5e206cfce8c115e6a0  5e8dec5e206cfce8c115e7ac\n5e8dec5e206cfce8c115e596  5e8dec5e206cfce8c115e6a2  5e8dec5e206cfce8c115e7ae\n5e8dec5e206cfce8c115e598  5e8dec5e206cfce8c115e6a4  5e8dec5e206cfce8c115e7b0\n5e8dec5e206cfce8c115e59a  5e8dec5e206cfce8c115e6a6  5e8dec5e206cfce8c115e7b2\n5e8dec5e206cfce8c115e59c  5e8dec5e206cfce8c115e6a8  5e8dec5e206cfce8c115e7b4\n5e8dec5e206cfce8c115e59e  5e8dec5e206cfce8c115e6aa  5e8dec5e206cfce8c115e7b6\n5e8dec5e206cfce8c115e5a0  5e8dec5e206cfce8c115e6ac  5e8dec5e206cfce8c115e7b8\n5e8dec5e206cfce8c115e5a2  5e8dec5e206cfce8c115e6ae  5e8dec5e206cfce8c115e7ba\n5e8dec5e206cfce8c115e5a4  5e8dec5e206cfce8c115e6b0  5e8dec5e206cfce8c115e7bc\n5e8dec5e206cfce8c115e5a6  5e8dec5e206cfce8c115e6b2  5e8dec5e206cfce8c115e7be\n5e8dec5e206cfce8c115e5a8  5e8dec5e206cfce8c115e6b4  5e8dec5e206cfce8c115e7c0\n5e8dec5e206cfce8c115e5aa  5e8dec5e206cfce8c115e6b6  5e8dec5e206cfce8c115e7c2\n5e8dec5e206cfce8c115e5ac  5e8dec5e206cfce8c115e6b8  5e8dec5e206cfce8c115e7c4\n5e8dec5e206cfce8c115e5ae  5e8dec5e206cfce8c115e6ba  5e8dec5e206cfce8c115e7c6\n5e8dec5e206cfce8c115e5b0  5e8dec5e206cfce8c115e6bc  5e8dec5e206cfce8c115e7c8\n5e8dec5e206cfce8c115e5b2  5e8dec5e206cfce8c115e6be  5e8dec5e206cfce8c115e7ca\n5e8dec5e206cfce8c115e5b4  5e8dec5e206cfce8c115e6c0  5e8dec5e206cfce8c115e7cc\n5e8dec5e206cfce8c115e5b6  5e8dec5e206cfce8c115e6c2  5e8dec5e206cfce8c115e7ce\n5e8dec5e206cfce8c115e5b8  5e8dec5e206cfce8c115e6c4  5e8dec5e206cfce8c115e7d0\n5e8dec5e206cfce8c115e5ba  5e8dec5e206cfce8c115e6c6  5e8dec5e206cfce8c115e7d2\n5e8dec5e206cfce8c115e5bc  5e8dec5e206cfce8c115e6c8\n5e8dec5e206cfce8c115e5be  5e8dec5e206cfce8c115e6ca"
     },
     "metadata": {},
     "output_type": "execute_result",
     "execution_count": 5
    }
   ],
   "source": [
    "ls()"
   ]
  },
  {
   "cell_type": "markdown",
   "metadata": {
    "pycharm": {
     "is_executing": false,
     "name": "#%% md\n"
    }
   },
   "source": [
    "So what have we got?  Let's ``cat`` a couple of our dictionaries to see:"
   ]
  },
  {
   "cell_type": "code",
   "execution_count": 6,
   "outputs": [
    {
     "name": "stdout",
     "text": [
      "\n",
      "\n"
     ],
     "output_type": "stream"
    },
    {
     "data": {
      "text/plain": "┌──────────────┬─────────────────────────────────────────────────────────────┐\n│URL           │http://www.just-eat.co.uk/restaurants-cn-chinese-cardiff/menu│\n│address       │228 City Road                                                │\n│address line 2│Cardiff                                                      │\n│name          │.CN Chinese                                                  │\n│outcode       │CF24                                                         │\n│postcode      │3JH                                                          │\n│rating        │5                                                            │\n│type_of_food  │Chinese                                                      │\n└──────────────┴─────────────────────────────────────────────────────────────┘\n┌──────────────┬─────────────────────────────────────────────────────┐\n│URL           │http://www.just-eat.co.uk/restaurants-atthai-ss9/menu│\n│address       │376 Rayleigh Road                                    │\n│address line 2│Essex                                                │\n│name          │@ Thai                                               │\n│outcode       │SS9                                                  │\n│postcode      │5PT                                                  │\n│rating        │5.5                                                  │\n│type_of_food  │Thai                                                 │\n└──────────────┴─────────────────────────────────────────────────────┘"
     },
     "metadata": {},
     "output_type": "execute_result",
     "execution_count": 6
    }
   ],
   "source": [
    "cat(ids[0], ids[1])"
   ],
   "metadata": {
    "collapsed": false,
    "pycharm": {
     "name": "#%%\n",
     "is_executing": false
    }
   }
  },
  {
   "cell_type": "markdown",
   "metadata": {
    "pycharm": {
     "is_executing": false,
     "name": "#%% md\n"
    }
   },
   "source": [
    "Now let's give them meaningful names, converting spaces and forward slashes"
   ]
  },
  {
   "cell_type": "code",
   "execution_count": 7,
   "outputs": [
    {
     "data": {
      "text/plain": ".CN_Chinese                                Aberdare_Charcoal_Grill                    Akar_Kebab\n@_Thai                                     Aberdeen_Shanghai_Takeaway               \n@_Thai_Restaurant                          Aberkenfig_Kebab_&_Pizza_House           \n@Indian.com                                Abe's_Pizza                              \n007_Takeaway                               Abi_Restaurant                           \n042_Restaurant_&_Bar                       Abi_Ruchi                                \n1_2_3_Chinese                              Abida                                    \n100_Degrees_Chinese_Restaurant             Abidap_Connection                        \n100_Menu                                   Abid's_Tandoori_Takeaway                 \n104_Turkish_BBQ                            Abington_Tandoori                        \n109_Ristorante                             Abi's_Kebab                              \n113_Fish_Bar                               Abo_Ali_-_Lebanese_Cuisine               \n133_Takeaway                               Abra_Pizzas                              \n1498_The_Spice_Affair                      Abra-Kebab-Ra                            \n168_Chinese_&_Cantonese_Takeaway           ABS_Fast_Food                            \n1A_Wok                                     Abs_Fried_Chicken_&_Pizza                \n1pizza1                                    Abshar_Indian_Cuisine                    \n1st_Choice_Pizza                           Abshar_Persian_Cuisine                   \n1st_Class_Pizza                            Absolute_Caribbean                       \n1st_Class_Pizza_&_Kebab_House              Aby's_Indian_Experience                  \n2_4_1_Pizza                                Abyssinia_Ethiopian_Restaurant           \n2_for_1_Pizza_Place                        Abz_BBQ_Kitchen                          \n2_Spice                                    Ace_Of_Spice                             \n2_Treat_U                                  Ace_Peri_Peri                            \n23rd_Street_Pizza                          Ace_Pizza                                \n241_Pizza                                  ACE_Pizza_&_Kebab                        \n2-4-1_Pizza                                Ace_Plaice_Traditional_Fish_&_Chips      \n280_Degrees_African_&_Nigerian_Restaurant  Acha_Halal_Chinese_Cuisine               \n3_Chef_Fish_Bar                            Ackee_Tree                               \n3_Chefs                                    Ackie's                                  \n3_In_1_Dunoon                              Acomb_Kebab_House                        \n3_in_1_Indian_&_Chipshop_Barrhead          Acropolis                                \n3_In_1_Xtra                                Active_Cafe_Lounge                       \n321_Pizzas,_Kebabs_&_Burgers               Acton_Charcoal_Grill                     \n328_Chinese_Online                         Ada_Restaurant                           \n333_Chinese_Takeaway                       Adaab_Balti                              \n333_Chinese_Takeaway1                      Adams                                    \n350_Wok                                    Adams_&_Lily's                           \n4_in_1_Express                             Adams_Alsabti_Pizzeria_&_Grill_House     \n4_in_Love                                  Adams_Balti                              \n4500_Miles_From_Delhi                      Adam's_Balti_&_Pizza                     \n4_Seasons_Pizza_&_Grill                    Adam's_Cafe_-_Collection_Only            \n4550_Miles_From_Delhi_-_Collection_Only    Adam's_Grill                             \n5_In_1_Takeaway                            Adams_Chippy_&_Curry_House               \n5_'N'_1                                    Adams_Diner                              \n5_Star_Chinese                             Adam's_Diner                             \n5_Star_Falafel_@_GH_Butchers               Adam's_Fast_Food                         \n5_Star_Fish_Bar                            Adam's_Fish_&_Chips                      \n5_Star_Pizza                               Adams_Fish_&_Pizza_Bar                   \n555_Hot_Curry                              Adams_Fish_N_Pizza_Bar                   \n555_Pizza                                  Adam's_Hot_&_Spicy                       \n555_Pizza_&_Kebab                          Adams_Ice_Cream_Parlour                  \n57_Orient_Takeaway                         Adams_Pizza                              \n62_Worksop_Fish_Bar                        Adam's_Pizza_&_Kebab                     \n64_Pizzeria                                Adams_Pizza_&_Kebabs                     \n7_&_One                                    Adams_Pizza_Corner                       \n7_Oaks_Grill                               Adam's_Pizzeria                          \n7_Spices                                   Adams_Pizzeria                           \n7_Spices_Takeaway                          Adams_Place                              \n7_STAR_Pizza                               Adam's_Spice                             \n7_Star_Spices                              Adams_Steak_&_Curry_House                \n700_Degrees                                Adana_Pizza                              \n88_Chinese                                 Adar_Restaurant                          \n88_Noodle_Bar                              Add_Spice                                \n888_Chinese_Takeaway                       Addlestone_Charcoal_Grill                \n888_Triple_Eight                           Adeel_Tandoori                           \n9_Inch_CFC                                 Adeels_Fast_Food                         \n9th_Avenue_Pizzeria                        Adeel_Balti_&_Pizza_Bar                  \n9th_Kitchen                                Adeels_Spice                             \nA_&_G_Kitchen                              Adelaide_Fish_Bar_-_Collection_Only      \nA_&_T_Mundi_House                          Adel's_Pizza                             \nA_Cake_A_Shake                             Adil_Takeaway                            \nA_Fish_Called_Rhondda                      Adil's_Takeaway                          \nA_La_Pizza                                 Adiva                                    \nA_La_Turka                                 Adlington_Mama_Mia                       \nA_M_Mians                                  Adlington_Spice                          \nA_Matter_Of_Taste                          Admiral_Pizza                            \nA_One_Tandoori                             Admirals_Fish_&_Chips_&_Kebabs           \nA_Passage_To_India                         Adnan_Southern_Fried_Chicken_Shop        \nA_Sealand_Fish_Bar_-_Collection_Only       Adnans_Indian_Restaurant_&_Takeaway      \nA_Star_Chippy                              Adolfo's                                 \nA_Taskinha                                 Adonis_Pizza_&_Grill                     \nA_Taste_Of_Persia_-_Collection_Only        Ado's                                    \nA_To_Buy_Fish_&_Chips                      Adras_Restaurant                         \nA_Touch_of_Spice                           Adriatic_Italian                         \nA_World_Of_Fl@vours                        AF88                                     \nA_Yummy_Pizza                              Afandina_Restaurant                      \nA&A_Peri_Peri                              AFC                                      \nA&S_Fast_Food                              AFC_American_Fried_Chicken               \nA.J's_Pizza                                AFC_Fried_Chicken_&_Pizza                \nèkó_Food_Market                            AFC_Pizza                                \n£1_Fish_Shop                               AFC-American_Fried_Chicken               \nA1_Balti_House                             Afendi_Club_&_Restaurant                 \nA1_Pizzas                                  Afendi_Restaurant_&_Cafe                 \nA1_Rice_'N'_Spice                          Afghan_Kebab_Takeaway                    \nA1_Wok                                     Afghan_Pamir                             \nA12_Spice                                  Afghan_Restaurant                        \nA4_Pizza_&_Kebab                           Afghan_Spice                             \nAA_Charcoal_Grill                          Africa_9JA_Restaurant                    \nAachi_Chettinad                            Africa_Best_Place                        \nAadams_Authentic_Grill                     African_Flavour                          \nAakash_Balti                               Afritopia_-_African_Restaurant_with_Style\nAakash_Restaurant                          Afsana                                   \nAamaya                                     After_Taste                              \nAamino's_Pizza                             Afters_Original                          \nAanias_Takeaway                            Agoon_Pani_Restaurant_&_Takeaway         \nAAQA_Fast_Food                             Agra                                     \nAaris_Indian_Restaurant                    Agra_Indian_Restaurant_&_Takeaway        \nAarthi                                     Agra_Spice_World                         \nA6_Grill                                   Agra_Tandoori                            \nAashiana                                   Agra_Tandoori_&_Balti                    \nAashir's                                   Agra_Tandoori_Express                    \nAayan's                                    Agrabad                                  \nAB_Pizza_and_Grill                         Ahads_Bengal_Balti                       \nAbabil                                     Ahjee_Bhajee                             \nAbaseen                                    Ahmed_Indian_Takeaway                    \nAbbey_Fish_Bar                             Ahmed_Tandoori                           \nAbbey_Fryers_Fish_Bar_&_Balti_House        Ahmed's                                  \nAbbey_Meads_Indian_Restaurant_&_Takeaway   Ahmeds_Curry_Cafe                        \nAbbey_Spice                                Ahmeds_Masala_Cafe                       \nAbbey_Tandoori                             Ahmed's_Perfect_Fried_Chicken            \nAbbeyfry_Fish_and_Chips                    Ahmeds_Tandoori                          \nAbbeyfry_Pizzeria_&_Kebab_House            Ai_Sushi                                 \nAbbey's_Balti_Village                      Ai_Wok                                   \nAbbey's_Fish_&_Chips_&_Pizza_Place         Aimees                                   \nAbbeys_Junction_Pizzeria                   Airlink_Restaurant_-_Collection_Only     \nAbbey's_Pizza                              Aishah_Tandoori                          \nAbbeywood_Tandoori                         Aisha's                                  \nAbbies_Pizza                               AJ_Pizza_Town_Limited                    \nAbby's_Diner                               AJ_Takeaway                              \nAbdul_Hadi                                 Ajanta_Indian_Cuisine                    \nAbdul_Spice                                Ajantha_Takeaway                         \nAbduls                                     Aji_-_Collection_Only                    \nAbdul's                                    AJ's_Chicken                             \nAbdul's_Balti_House                        Aisuru_Sushi                             \nAbdul's_Curry_House                        AJs_Multi_Cuisine                        \nAbdul's_Indian                             AJ's_Pizza                               \nAbdul's_Indian_Cuisine                     AJ's_Traditional_Fish_&_Chips            \nAbduls_Kebab_House                         Ajuba_Indian_Cuisine                     \nAbduls_Rusholme                            Ajwa_Restaurant                          \nAberavon_Packed_Meals                      AK_Chicken_Food                          \nAberbargoed_Indian_Takeaway                AK_Grill                                 "
     },
     "metadata": {},
     "output_type": "execute_result",
     "execution_count": 7
    }
   ],
   "source": [
    "for resto in ls() | load: \n",
    "    mv(resto, resto['name'].replace(' ', '_').replace('/', '_')) \n",
    "    \n",
    "ls()"
   ],
   "metadata": {
    "collapsed": false,
    "pycharm": {
     "name": "#%%\n",
     "is_executing": false
    }
   }
  },
  {
   "cell_type": "markdown",
   "metadata": {
    "pycharm": {
     "is_executing": false,
     "name": "#%% md\n"
    }
   },
   "source": [
    "The search functionality\n",
    "------------------------\n",
    "\n",
    "In the mood for curry in Edinburgh?"
   ]
  },
  {
   "cell_type": "code",
   "execution_count": 8,
   "metadata": {
    "pycharm": {
     "name": "#%%\n",
     "is_executing": false
    }
   },
   "outputs": [
    {
     "name": "stdout",
     "text": [
      "\n",
      "\n",
      "\n",
      "\n"
     ],
     "output_type": "stream"
    },
    {
     "data": {
      "text/plain": "┌──────────────┬─────────────────────────────────────────────────────────────┐\n│URL           │http://www.just-eat.co.uk/restaurants-ahmedstandoori-eh6/menu│\n│address       │100 Newhaven Road                                            │\n│address line 2│Edinburgh                                                    │\n│name          │Ahmeds Tandoori                                              │\n│outcode       │EH6                                                          │\n│postcode      │4BS                                                          │\n│rating        │5                                                            │\n│type_of_food  │Curry                                                        │\n└──────────────┴─────────────────────────────────────────────────────────────┘\n┌──────────────┬────────────────────────────────────────────────────────┐\n│URL           │http://www.just-eat.co.uk/restaurants-agoonpani-eh6/menu│\n│address       │91 Henderson Street                                     │\n│address line 2│Edinburgh                                               │\n│name          │Agoon Pani Restaurant & Takeaway                        │\n│outcode       │EH6                                                     │\n│postcode      │6ED                                                     │\n│rating        │5                                                       │\n│type_of_food  │Curry                                                   │\n└──────────────┴────────────────────────────────────────────────────────┘\n┌──────────────┬──────────────────────────────────────────────────────┐\n│URL           │http://www.just-eat.co.uk/restaurants-abduls-eh10/menu│\n│address       │22 Comiston Road                                      │\n│address line 2│Edinburgh                                             │\n│name          │Abduls                                                │\n│outcode       │EH10                                                  │\n│postcode      │5QE                                                   │\n│rating        │5                                                     │\n│type_of_food  │Curry                                                 │\n└──────────────┴──────────────────────────────────────────────────────┘\n┌──────────────┬───────────────────────────────────────────────────────────┐\n│URL           │http://www.just-eat.co.uk/restaurants-abida-restaurant/menu│\n│address       │295A St John's Road                                        │\n│address line 2│Edinburgh                                                  │\n│name          │Abida                                                      │\n│outcode       │EH12                                                       │\n│postcode      │7XF                                                        │\n│rating        │4.5                                                        │\n│type_of_food  │Curry                                                      │\n└──────────────┴───────────────────────────────────────────────────────────┘"
     },
     "metadata": {},
     "output_type": "execute_result",
     "execution_count": 8
    }
   ],
   "source": [
    "cat(find(state={'type_of_food': 'Curry', 'address line 2': 'Edinburgh'}))"
   ]
  },
  {
   "cell_type": "markdown",
   "metadata": {
    "pycharm": {
     "is_executing": false,
     "name": "#%% md\n"
    }
   },
   "source": [
    "Let's organise our resto's a little more into folders"
   ]
  },
  {
   "cell_type": "code",
   "source": [
    "for resto in load(ls()):\n",
    "    mv(resto, resto['type_of_food'] + '/') # All directories in PyOS end with a '/'\n",
    "    \n",
    "ls()"
   ],
   "metadata": {
    "collapsed": false,
    "pycharm": {
     "name": "#%% \n",
     "is_executing": false
    }
   },
   "execution_count": 9,
   "outputs": [
    {
     "data": {
      "text/plain": "Chinese/  African/    Fish & Chips/  Arabic/      Persian/      Caribbean/  Russian/   Burgers/\nThai/     Turkish/    English/       Desserts/    Peri Peri/    Ethiopian/  Afghan/    Sushi/  \nCurry/    Breakfast/  Lebanese/      Kebab/       South Curry/  Greek/      Cakes/     Grill/  \nPizza/    American/   Chicken/       Portuguese/  Punjabi/      Moroccan/   Japanese/"
     },
     "metadata": {},
     "output_type": "execute_result",
     "execution_count": 9
    }
   ]
  },
  {
   "cell_type": "markdown",
   "metadata": {
    "pycharm": {
     "is_executing": false,
     "name": "#%% md\n"
    }
   },
   "source": [
    "Beautiful, let's just check:"
   ]
  },
  {
   "cell_type": "code",
   "execution_count": 10,
   "outputs": [
    {
     "data": {
      "text/plain": "007_Takeaway                   9th_Avenue_Pizzeria              Adams_Alsabti_Pizzeria_&_Grill_House\n109_Ristorante                 A_La_Pizza                       Adam's_Cafe_-_Collection_Only       \n1pizza1                        A_La_Turka                       Adam's_Diner                        \n1st_Choice_Pizza               A_Matter_Of_Taste                Adam's_Fast_Food                    \n1st_Class_Pizza                A_Yummy_Pizza                    Adam's_Hot_&_Spicy                  \n1st_Class_Pizza_&_Kebab_House  A.J's_Pizza                      Adams_Pizza                         \n2_4_1_Pizza                    A1_Pizzas                        Adam's_Pizza_&_Kebab                \n2_for_1_Pizza_Place            A4_Pizza_&_Kebab                 Adams_Pizza_&_Kebabs                \n2_Treat_U                      Aamino's_Pizza                   Adams_Pizza_Corner                  \n241_Pizza                      AAQA_Fast_Food                   Adam's_Pizzeria                     \n2-4-1_Pizza                    Abbeyfry_Pizzeria_&_Kebab_House  Adams_Pizzeria                      \n321_Pizzas,_Kebabs_&_Burgers   Abbeys_Junction_Pizzeria         Adana_Pizza                         \n4_in_1_Express                 Abduls_Kebab_House               Adeels_Spice                        \n4_Seasons_Pizza_&_Grill        Aberdare_Charcoal_Grill          Adel's_Pizza                        \n5_Star_Pizza                   Abe's_Pizza                      Admiral_Pizza                       \n555_Pizza                      Abra_Pizzas                      Adnan_Southern_Fried_Chicken_Shop   \n555_Pizza_&_Kebab              ABS_Fast_Food                    Adriatic_Italian                    \n64_Pizzeria                    Ace_Pizza                        AFC_Pizza                           \n7_STAR_Pizza                   ACE_Pizza_&_Kebab                Afendi_Club_&_Restaurant            \n7_Star_Spices                  Adams                            AJ's_Pizza                          \n9_Inch_CFC                     Adams_&_Lily's                   AJ's_Traditional_Fish_&_Chips       "
     },
     "metadata": {},
     "output_type": "execute_result",
     "execution_count": 10
    }
   ],
   "source": [
    "ls('Pizza/')"
   ],
   "metadata": {
    "collapsed": false,
    "pycharm": {
     "name": "#%%\n",
     "is_executing": false
    }
   }
  },
  {
   "cell_type": "markdown",
   "metadata": {
    "pycharm": {
     "is_executing": false,
     "name": "#%% md\n"
    }
   },
   "source": [
    "You know what, I'm vegetarian anyway - let's delete the chicken joints"
   ]
  },
  {
   "cell_type": "code",
   "execution_count": 11,
   "outputs": [
    {
     "data": {
      "text/plain": "Chinese/  African/    Fish & Chips/  Desserts/    Peri Peri/    Ethiopian/  Afghan/    Sushi/\nThai/     Turkish/    English/       Kebab/       South Curry/  Greek/      Cakes/     Grill/\nCurry/    Breakfast/  Lebanese/      Portuguese/  Punjabi/      Moroccan/   Japanese/\nPizza/    American/   Arabic/        Persian/     Caribbean/    Russian/    Burgers/ "
     },
     "metadata": {},
     "output_type": "execute_result",
     "execution_count": 11
    }
   ],
   "source": [
    "rm('Chicken/')\n",
    "ls()"
   ],
   "metadata": {
    "collapsed": false,
    "pycharm": {
     "name": "#%%\n",
     "is_executing": false
    }
   }
  },
  {
   "cell_type": "markdown",
   "metadata": {
    "pycharm": {
     "is_executing": false,
     "name": "#%% md\n"
    }
   },
   "source": [
    "Using metadata\n",
    "--------------\n",
    "\n",
    "Let's add my personal ratings as metadata"
   ]
  },
  {
   "cell_type": "code",
   "execution_count": 12,
   "metadata": {
    "pycharm": {
     "name": "#%%\n",
     "is_executing": false
    }
   },
   "outputs": [
    {
     "name": "stdout",
     "text": [
      "\n"
     ],
     "output_type": "stream"
    },
    {
     "data": {
      "text/plain": "┌──────────────┬────────────────────────┐\n│_directory    │/martin/Curry/          │\n│obj_id        │5e8dec5e206cfce8c115e78e│\n│name          │Ahmeds_Tandoori         │\n│martins_rating│5.5                     │\n└──────────────┴────────────────────────┘"
     },
     "metadata": {},
     "output_type": "execute_result",
     "execution_count": 12
    }
   ],
   "source": [
    "meta(-u, 'Curry/Ahmeds_Tandoori', martins_rating=5.5) # -u for 'update'\n",
    "# Can also use flags like this:\n",
    "meta -u ('Curry/Abida', martins_rating=6)\n",
    "meta -u ('Curry/Abduls', martins_rating=4) \n",
    "\n",
    "# Let's have a look\n",
    "meta('Curry/Ahmeds_Tandoori')"
   ]
  },
  {
   "cell_type": "markdown",
   "metadata": {
    "pycharm": {
     "is_executing": false,
     "name": "#%% md\n"
    }
   },
   "source": [
    "And now let's find the good ones"
   ]
  },
  {
   "cell_type": "code",
   "execution_count": 13,
   "outputs": [
    {
     "data": {
      "text/plain": "Ahmeds_Tandoori\nAbida"
     },
     "metadata": {},
     "output_type": "execute_result",
     "execution_count": 13
    }
   ],
   "source": [
    "find(meta=dict(martins_rating={'$gt': 5}))\n"
   ],
   "metadata": {
    "collapsed": false,
    "pycharm": {
     "name": "#%%\n",
     "is_executing": false
    }
   }
  },
  {
   "cell_type": "markdown",
   "metadata": {
    "pycharm": {
     "is_executing": false,
     "name": "#%% md\n"
    }
   },
   "source": [
    "You can also 'pipe' results to another callable:"
   ]
  },
  {
   "cell_type": "code",
   "execution_count": 14,
   "outputs": [
    {
     "data": {
      "text/plain": "/martin/Curry/Ahmeds_Tandoori\n/martin/Curry/Abida"
     },
     "metadata": {},
     "output_type": "execute_result",
     "execution_count": 14
    }
   ],
   "source": [
    "# But hold on, where are those again?\n",
    "find(meta=dict(martins_rating={'$gt': 5})) | locate\n"
   ],
   "metadata": {
    "collapsed": false,
    "pycharm": {
     "name": "#%%\n",
     "is_executing": false
    }
   }
  }
 ],
 "metadata": {
  "kernelspec": {
   "display_name": "PyCharm (pyos)",
   "language": "python",
   "name": "pycharm-3c4673b5"
  },
  "language_info": {
   "codemirror_mode": {
    "name": "ipython",
    "version": 3
   },
   "file_extension": ".py",
   "mimetype": "text/x-python",
   "name": "python",
   "nbconvert_exporter": "python",
   "pygments_lexer": "ipython3",
   "version": "3.7.5"
  },
  "pycharm": {
   "stem_cell": {
    "cell_type": "raw",
    "source": [],
    "metadata": {
     "collapsed": false
    }
   }
  }
 },
 "nbformat": 4,
 "nbformat_minor": 1
}